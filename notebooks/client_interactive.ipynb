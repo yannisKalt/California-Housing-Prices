{
 "cells": [
  {
   "cell_type": "code",
   "execution_count": 11,
   "metadata": {},
   "outputs": [
    {
     "name": "stdout",
     "output_type": "stream",
     "text": [
      "Prediction: {'median_house_value': 468885.58}\n"
     ]
    }
   ],
   "source": [
    "# Importing necessary libraries\n",
    "import requests\n",
    "import json\n",
    "\n",
    "# Define the URL of the FastAPI server's /predict endpoint\n",
    "url = \"http://127.0.0.1:8000/predict\"\n",
    "\n",
    "# Define the input data as a dictionary\n",
    "data = {\n",
    "    \"latitude\": 35.067,\n",
    "    \"longitude\": -118.25,\n",
    "    \"median_income\": 8.5,\n",
    "    \"ocean_proximity_<1H OCEAN\": 0.0,\n",
    "    \"ocean_proximity_INLAND\": 0.0,\n",
    "    \"ocean_proximity_NEAR BAY\": 0.0,\n",
    "    \"total_rooms\": 1500.0,\n",
    "}\n",
    "\n",
    "# Send a POST request to the /predict endpoint\n",
    "response = requests.post(url, json=data)\n",
    "\n",
    "# Check if the response was successful\n",
    "if response.status_code == 200:\n",
    "    # Parse the JSON response\n",
    "    prediction = response.json()\n",
    "    print(\"Prediction:\", prediction)\n",
    "else:\n",
    "    print(f\"Error: {response.status_code}\")\n",
    "    print(response.text)"
   ]
  }
 ],
 "metadata": {
  "kernelspec": {
   "display_name": ".venv",
   "language": "python",
   "name": "python3"
  },
  "language_info": {
   "codemirror_mode": {
    "name": "ipython",
    "version": 3
   },
   "file_extension": ".py",
   "mimetype": "text/x-python",
   "name": "python",
   "nbconvert_exporter": "python",
   "pygments_lexer": "ipython3",
   "version": "3.12.1"
  }
 },
 "nbformat": 4,
 "nbformat_minor": 2
}
